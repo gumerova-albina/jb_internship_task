{
 "cells": [
  {
   "cell_type": "markdown",
   "metadata": {},
   "source": [
    "Подключим необходимые библиотеки"
   ]
  },
  {
   "cell_type": "code",
   "execution_count": 1,
   "metadata": {},
   "outputs": [
    {
     "name": "stderr",
     "output_type": "stream",
     "text": [
      "Loading required package: BiocGenerics\n",
      "Loading required package: parallel\n",
      "\n",
      "Attaching package: 'BiocGenerics'\n",
      "\n",
      "The following objects are masked from 'package:parallel':\n",
      "\n",
      "    clusterApply, clusterApplyLB, clusterCall, clusterEvalQ,\n",
      "    clusterExport, clusterMap, parApply, parCapply, parLapply,\n",
      "    parLapplyLB, parRapply, parSapply, parSapplyLB\n",
      "\n",
      "The following objects are masked from 'package:stats':\n",
      "\n",
      "    IQR, mad, sd, var, xtabs\n",
      "\n",
      "The following objects are masked from 'package:base':\n",
      "\n",
      "    anyDuplicated, append, as.data.frame, basename, cbind, colnames,\n",
      "    dirname, do.call, duplicated, eval, evalq, Filter, Find, get, grep,\n",
      "    grepl, intersect, is.unsorted, lapply, Map, mapply, match, mget,\n",
      "    order, paste, pmax, pmax.int, pmin, pmin.int, Position, rank,\n",
      "    rbind, Reduce, rownames, sapply, setdiff, sort, table, tapply,\n",
      "    union, unique, unsplit, which, which.max, which.min\n",
      "\n",
      "Welcome to Bioconductor\n",
      "\n",
      "    Vignettes contain introductory material; view with\n",
      "    'browseVignettes()'. To cite Bioconductor, see\n",
      "    'citation(\"Biobase\")', and for packages 'citation(\"pkgname\")'.\n",
      "\n",
      "Setting options('download.file.method.GEOquery'='auto')\n",
      "Setting options('GEOquery.inmemory.gpl'=FALSE)\n",
      "Registered S3 method overwritten by 'openssl':\n",
      "  method      from\n",
      "  print.bytes Rcpp\n"
     ]
    }
   ],
   "source": [
    "library(Biobase)\n",
    "library(GEOquery)\n",
    "library(biomaRt)"
   ]
  },
  {
   "cell_type": "markdown",
   "metadata": {},
   "source": [
    "Считаем данные эскперимента"
   ]
  },
  {
   "cell_type": "code",
   "execution_count": 2,
   "metadata": {},
   "outputs": [
    {
     "name": "stderr",
     "output_type": "stream",
     "text": [
      "Found 1 file(s)\n",
      "GSE26728_series_matrix.txt.gz\n",
      "Parsed with column specification:\n",
      "cols(\n",
      "  ID_REF = col_character(),\n",
      "  GSM658075 = col_double(),\n",
      "  GSM658076 = col_double(),\n",
      "  GSM658077 = col_double(),\n",
      "  GSM658078 = col_double(),\n",
      "  GSM658079 = col_double(),\n",
      "  GSM658080 = col_double(),\n",
      "  GSM658081 = col_double(),\n",
      "  GSM658082 = col_double(),\n",
      "  GSM658083 = col_double(),\n",
      "  GSM658084 = col_double(),\n",
      "  GSM658085 = col_double(),\n",
      "  GSM658086 = col_double(),\n",
      "  GSM658087 = col_double(),\n",
      "  GSM658088 = col_double(),\n",
      "  GSM658089 = col_double(),\n",
      "  GSM658090 = col_double(),\n",
      "  GSM658091 = col_double(),\n",
      "  GSM658092 = col_double()\n",
      ")\n"
     ]
    }
   ],
   "source": [
    "gset <- getGEO(\"GSE26728\", GSEMatrix =TRUE, getGPL=FALSE)\n",
    "if (length(gset) > 1) idx <- grep(\"GPL7042\", attr(gset, \"names\")) else idx <- 1\n",
    "gset <- gset[[idx]]"
   ]
  },
  {
   "cell_type": "markdown",
   "metadata": {},
   "source": [
    "Посмотрим на матрицу экспрессии генов. Здесь названия строк - идентификаторы пробы, названия столбцов - особи."
   ]
  },
  {
   "cell_type": "code",
   "execution_count": 3,
   "metadata": {},
   "outputs": [],
   "source": [
    "ex_mat <- exprs(gset)"
   ]
  },
  {
   "cell_type": "code",
   "execution_count": 4,
   "metadata": {},
   "outputs": [
    {
     "data": {
      "text/html": [
       "<table>\n",
       "<thead><tr><th></th><th scope=col>GSM658075</th><th scope=col>GSM658076</th><th scope=col>GSM658077</th><th scope=col>GSM658078</th><th scope=col>GSM658079</th><th scope=col>GSM658080</th><th scope=col>GSM658081</th><th scope=col>GSM658082</th><th scope=col>GSM658083</th><th scope=col>GSM658084</th><th scope=col>GSM658085</th><th scope=col>GSM658086</th><th scope=col>GSM658087</th><th scope=col>GSM658088</th><th scope=col>GSM658089</th><th scope=col>GSM658090</th><th scope=col>GSM658091</th><th scope=col>GSM658092</th></tr></thead>\n",
       "<tbody>\n",
       "\t<tr><th scope=row>A_51_P100034</th><td>12.630</td><td>11.899</td><td>12.393</td><td>12.539</td><td>12.368</td><td>12.361</td><td>12.332</td><td>12.148</td><td>12.032</td><td>11.955</td><td>12.222</td><td>12.202</td><td>12.107</td><td>12.529</td><td>11.838</td><td>12.054</td><td>12.223</td><td>12.343</td></tr>\n",
       "\t<tr><th scope=row>A_51_P100063</th><td> 5.828</td><td> 6.598</td><td> 5.984</td><td> 5.986</td><td> 6.089</td><td> 6.163</td><td> 6.384</td><td> 6.410</td><td> 5.984</td><td> 6.158</td><td> 6.031</td><td> 5.833</td><td> 6.441</td><td> 7.814</td><td> 6.107</td><td> 7.017</td><td> 5.853</td><td> 6.656</td></tr>\n",
       "\t<tr><th scope=row>A_51_P100099</th><td> 7.638</td><td> 7.635</td><td> 7.216</td><td> 7.767</td><td> 7.516</td><td> 7.378</td><td> 7.171</td><td> 7.558</td><td> 7.571</td><td> 7.607</td><td> 7.523</td><td> 7.628</td><td> 7.461</td><td> 7.321</td><td> 7.792</td><td> 7.577</td><td> 7.412</td><td> 7.357</td></tr>\n",
       "\t<tr><th scope=row>A_51_P100155</th><td>10.947</td><td>10.582</td><td>10.406</td><td>11.054</td><td>10.770</td><td>10.402</td><td>10.610</td><td>10.512</td><td>10.492</td><td>10.485</td><td>10.839</td><td>10.535</td><td>10.674</td><td>10.333</td><td>10.622</td><td>10.302</td><td>10.339</td><td>10.572</td></tr>\n",
       "\t<tr><th scope=row>A_51_P100174</th><td> 6.632</td><td> 6.089</td><td> 6.012</td><td> 6.190</td><td> 6.260</td><td> 6.131</td><td> 5.993</td><td> 6.274</td><td> 6.002</td><td> 6.011</td><td> 6.124</td><td> 6.062</td><td> 6.375</td><td> 6.087</td><td> 6.152</td><td> 6.202</td><td> 6.209</td><td> 6.172</td></tr>\n",
       "\t<tr><th scope=row>A_51_P100181</th><td> 6.655</td><td> 6.788</td><td> 6.584</td><td> 6.822</td><td> 6.742</td><td> 6.782</td><td> 6.805</td><td> 6.822</td><td> 6.734</td><td> 6.954</td><td> 6.777</td><td> 6.859</td><td> 6.684</td><td> 6.600</td><td> 6.779</td><td> 7.029</td><td> 6.616</td><td> 6.715</td></tr>\n",
       "</tbody>\n",
       "</table>\n"
      ],
      "text/latex": [
       "\\begin{tabular}{r|llllllllllllllllll}\n",
       "  & GSM658075 & GSM658076 & GSM658077 & GSM658078 & GSM658079 & GSM658080 & GSM658081 & GSM658082 & GSM658083 & GSM658084 & GSM658085 & GSM658086 & GSM658087 & GSM658088 & GSM658089 & GSM658090 & GSM658091 & GSM658092\\\\\n",
       "\\hline\n",
       "\tA\\_51\\_P100034 & 12.630 & 11.899 & 12.393 & 12.539 & 12.368 & 12.361 & 12.332 & 12.148 & 12.032 & 11.955 & 12.222 & 12.202 & 12.107 & 12.529 & 11.838 & 12.054 & 12.223 & 12.343\\\\\n",
       "\tA\\_51\\_P100063 &  5.828 &  6.598 &  5.984 &  5.986 &  6.089 &  6.163 &  6.384 &  6.410 &  5.984 &  6.158 &  6.031 &  5.833 &  6.441 &  7.814 &  6.107 &  7.017 &  5.853 &  6.656\\\\\n",
       "\tA\\_51\\_P100099 &  7.638 &  7.635 &  7.216 &  7.767 &  7.516 &  7.378 &  7.171 &  7.558 &  7.571 &  7.607 &  7.523 &  7.628 &  7.461 &  7.321 &  7.792 &  7.577 &  7.412 &  7.357\\\\\n",
       "\tA\\_51\\_P100155 & 10.947 & 10.582 & 10.406 & 11.054 & 10.770 & 10.402 & 10.610 & 10.512 & 10.492 & 10.485 & 10.839 & 10.535 & 10.674 & 10.333 & 10.622 & 10.302 & 10.339 & 10.572\\\\\n",
       "\tA\\_51\\_P100174 &  6.632 &  6.089 &  6.012 &  6.190 &  6.260 &  6.131 &  5.993 &  6.274 &  6.002 &  6.011 &  6.124 &  6.062 &  6.375 &  6.087 &  6.152 &  6.202 &  6.209 &  6.172\\\\\n",
       "\tA\\_51\\_P100181 &  6.655 &  6.788 &  6.584 &  6.822 &  6.742 &  6.782 &  6.805 &  6.822 &  6.734 &  6.954 &  6.777 &  6.859 &  6.684 &  6.600 &  6.779 &  7.029 &  6.616 &  6.715\\\\\n",
       "\\end{tabular}\n"
      ],
      "text/markdown": [
       "\n",
       "| <!--/--> | GSM658075 | GSM658076 | GSM658077 | GSM658078 | GSM658079 | GSM658080 | GSM658081 | GSM658082 | GSM658083 | GSM658084 | GSM658085 | GSM658086 | GSM658087 | GSM658088 | GSM658089 | GSM658090 | GSM658091 | GSM658092 |\n",
       "|---|---|---|---|---|---|---|---|---|---|---|---|---|---|---|---|---|---|---|\n",
       "| A_51_P100034 | 12.630 | 11.899 | 12.393 | 12.539 | 12.368 | 12.361 | 12.332 | 12.148 | 12.032 | 11.955 | 12.222 | 12.202 | 12.107 | 12.529 | 11.838 | 12.054 | 12.223 | 12.343 |\n",
       "| A_51_P100063 |  5.828 |  6.598 |  5.984 |  5.986 |  6.089 |  6.163 |  6.384 |  6.410 |  5.984 |  6.158 |  6.031 |  5.833 |  6.441 |  7.814 |  6.107 |  7.017 |  5.853 |  6.656 |\n",
       "| A_51_P100099 |  7.638 |  7.635 |  7.216 |  7.767 |  7.516 |  7.378 |  7.171 |  7.558 |  7.571 |  7.607 |  7.523 |  7.628 |  7.461 |  7.321 |  7.792 |  7.577 |  7.412 |  7.357 |\n",
       "| A_51_P100155 | 10.947 | 10.582 | 10.406 | 11.054 | 10.770 | 10.402 | 10.610 | 10.512 | 10.492 | 10.485 | 10.839 | 10.535 | 10.674 | 10.333 | 10.622 | 10.302 | 10.339 | 10.572 |\n",
       "| A_51_P100174 |  6.632 |  6.089 |  6.012 |  6.190 |  6.260 |  6.131 |  5.993 |  6.274 |  6.002 |  6.011 |  6.124 |  6.062 |  6.375 |  6.087 |  6.152 |  6.202 |  6.209 |  6.172 |\n",
       "| A_51_P100181 |  6.655 |  6.788 |  6.584 |  6.822 |  6.742 |  6.782 |  6.805 |  6.822 |  6.734 |  6.954 |  6.777 |  6.859 |  6.684 |  6.600 |  6.779 |  7.029 |  6.616 |  6.715 |\n",
       "\n"
      ],
      "text/plain": [
       "             GSM658075 GSM658076 GSM658077 GSM658078 GSM658079 GSM658080\n",
       "A_51_P100034 12.630    11.899    12.393    12.539    12.368    12.361   \n",
       "A_51_P100063  5.828     6.598     5.984     5.986     6.089     6.163   \n",
       "A_51_P100099  7.638     7.635     7.216     7.767     7.516     7.378   \n",
       "A_51_P100155 10.947    10.582    10.406    11.054    10.770    10.402   \n",
       "A_51_P100174  6.632     6.089     6.012     6.190     6.260     6.131   \n",
       "A_51_P100181  6.655     6.788     6.584     6.822     6.742     6.782   \n",
       "             GSM658081 GSM658082 GSM658083 GSM658084 GSM658085 GSM658086\n",
       "A_51_P100034 12.332    12.148    12.032    11.955    12.222    12.202   \n",
       "A_51_P100063  6.384     6.410     5.984     6.158     6.031     5.833   \n",
       "A_51_P100099  7.171     7.558     7.571     7.607     7.523     7.628   \n",
       "A_51_P100155 10.610    10.512    10.492    10.485    10.839    10.535   \n",
       "A_51_P100174  5.993     6.274     6.002     6.011     6.124     6.062   \n",
       "A_51_P100181  6.805     6.822     6.734     6.954     6.777     6.859   \n",
       "             GSM658087 GSM658088 GSM658089 GSM658090 GSM658091 GSM658092\n",
       "A_51_P100034 12.107    12.529    11.838    12.054    12.223    12.343   \n",
       "A_51_P100063  6.441     7.814     6.107     7.017     5.853     6.656   \n",
       "A_51_P100099  7.461     7.321     7.792     7.577     7.412     7.357   \n",
       "A_51_P100155 10.674    10.333    10.622    10.302    10.339    10.572   \n",
       "A_51_P100174  6.375     6.087     6.152     6.202     6.209     6.172   \n",
       "A_51_P100181  6.684     6.600     6.779     7.029     6.616     6.715   "
      ]
     },
     "metadata": {},
     "output_type": "display_data"
    }
   ],
   "source": [
    "head(ex_mat)"
   ]
  },
  {
   "cell_type": "code",
   "execution_count": 5,
   "metadata": {},
   "outputs": [],
   "source": [
    "ag_probs <- rownames(ex_mat)\n",
    "samples <- colnames(ex_mat)"
   ]
  },
  {
   "cell_type": "markdown",
   "metadata": {},
   "source": [
    "Проаннотируем пробы, чтобы получить информацию об исследуемых генах. Для этого воспользуемся пакетом BiomaRT."
   ]
  },
  {
   "cell_type": "code",
   "execution_count": 8,
   "metadata": {},
   "outputs": [
    {
     "name": "stderr",
     "output_type": "stream",
     "text": [
      "Cache found\n"
     ]
    }
   ],
   "source": [
    "mart <- useDataset(\"mmusculus_gene_ensembl\", useMart(\"ensembl\"))\n",
    "gene_list <- getBM(attributes= c(\"agilent_wholegenome\", \"ensembl_gene_id\"), values=ag_probs, filter = \"agilent_wholegenome\", mart= mart)"
   ]
  },
  {
   "cell_type": "code",
   "execution_count": 9,
   "metadata": {},
   "outputs": [
    {
     "data": {
      "text/html": [
       "<table>\n",
       "<thead><tr><th scope=col>agilent_wholegenome</th><th scope=col>ensembl_gene_id</th></tr></thead>\n",
       "<tbody>\n",
       "\t<tr><td>A_51_P101086      </td><td>ENSMUSG00000024276</td></tr>\n",
       "\t<tr><td>A_51_P122981      </td><td>ENSMUSG00000104526</td></tr>\n",
       "\t<tr><td>A_51_P119633      </td><td>ENSMUSG00000067199</td></tr>\n",
       "\t<tr><td>A_51_P129480      </td><td>ENSMUSG00000095675</td></tr>\n",
       "\t<tr><td>A_51_P133792      </td><td>ENSMUSG00000031145</td></tr>\n",
       "\t<tr><td>A_51_P105755      </td><td>ENSMUSG00000012640</td></tr>\n",
       "</tbody>\n",
       "</table>\n"
      ],
      "text/latex": [
       "\\begin{tabular}{r|ll}\n",
       " agilent\\_wholegenome & ensembl\\_gene\\_id\\\\\n",
       "\\hline\n",
       "\t A\\_51\\_P101086   & ENSMUSG00000024276\\\\\n",
       "\t A\\_51\\_P122981   & ENSMUSG00000104526\\\\\n",
       "\t A\\_51\\_P119633   & ENSMUSG00000067199\\\\\n",
       "\t A\\_51\\_P129480   & ENSMUSG00000095675\\\\\n",
       "\t A\\_51\\_P133792   & ENSMUSG00000031145\\\\\n",
       "\t A\\_51\\_P105755   & ENSMUSG00000012640\\\\\n",
       "\\end{tabular}\n"
      ],
      "text/markdown": [
       "\n",
       "| agilent_wholegenome | ensembl_gene_id |\n",
       "|---|---|\n",
       "| A_51_P101086       | ENSMUSG00000024276 |\n",
       "| A_51_P122981       | ENSMUSG00000104526 |\n",
       "| A_51_P119633       | ENSMUSG00000067199 |\n",
       "| A_51_P129480       | ENSMUSG00000095675 |\n",
       "| A_51_P133792       | ENSMUSG00000031145 |\n",
       "| A_51_P105755       | ENSMUSG00000012640 |\n",
       "\n"
      ],
      "text/plain": [
       "  agilent_wholegenome ensembl_gene_id   \n",
       "1 A_51_P101086        ENSMUSG00000024276\n",
       "2 A_51_P122981        ENSMUSG00000104526\n",
       "3 A_51_P119633        ENSMUSG00000067199\n",
       "4 A_51_P129480        ENSMUSG00000095675\n",
       "5 A_51_P133792        ENSMUSG00000031145\n",
       "6 A_51_P105755        ENSMUSG00000012640"
      ]
     },
     "metadata": {},
     "output_type": "display_data"
    }
   ],
   "source": [
    "head(gene_list)"
   ]
  },
  {
   "cell_type": "markdown",
   "metadata": {},
   "source": [
    "Посмотрим все ли пробы получилось проаннотировать. Сравним длины исходных и полученных данных:"
   ]
  },
  {
   "cell_type": "code",
   "execution_count": 10,
   "metadata": {},
   "outputs": [
    {
     "data": {
      "text/html": [
       "1761"
      ],
      "text/latex": [
       "1761"
      ],
      "text/markdown": [
       "1761"
      ],
      "text/plain": [
       "[1] 1761"
      ]
     },
     "metadata": {},
     "output_type": "display_data"
    }
   ],
   "source": [
    "number_of_not_converted <- length(ag_probs) - length(gene_list$agilent_wholegenome)\n",
    "number_of_not_converted"
   ]
  },
  {
   "cell_type": "markdown",
   "metadata": {},
   "source": [
    "Для 1761 элемента не нашлось соответствий в базе данных. \n",
    "Дальнейшие действия будем выполнять без их учета."
   ]
  },
  {
   "cell_type": "markdown",
   "metadata": {},
   "source": [
    "Известно, что первые 6 особей соответствуют группе \"control\", следующие - \"BPA at 50\" и последние 6 - \"BPA at 5000\". Найдем средние значения экспрессии генов для каждой из групп."
   ]
  },
  {
   "cell_type": "code",
   "execution_count": 11,
   "metadata": {},
   "outputs": [],
   "source": [
    "means_for_genes = data.frame(gene=unique(gene_list$ensembl_gene_id))\n",
    "means_for_genes$control <- rep(0, nrow(means_for_genes))\n",
    "means_for_genes$bpa_at_50 <- rep(0, nrow(means_for_genes))\n",
    "means_for_genes$bpa_at_5000 <- rep(0, nrow(means_for_genes))"
   ]
  },
  {
   "cell_type": "code",
   "execution_count": 12,
   "metadata": {},
   "outputs": [],
   "source": [
    "for (i in 1:nrow(gene_list)){\n",
    "    probs_for_gene <- as.vector(gene_list[gene_list$ensembl_gene_id == gene_list$ensembl_gene_id[i],]$agilent_wholegenome)\n",
    "    means_for_genes[means_for_genes$gene == gene_list$ensembl_gene_id[i],]$control = mean(ex_mat[probs_for_gene, c(1:6)]) / length(probs_for_gene)\n",
    "    means_for_genes[means_for_genes$gene == gene_list$ensembl_gene_id[i],]$bpa_at_50 = mean(ex_mat[probs_for_gene, c(7:12)]) / length(probs_for_gene)\n",
    "    means_for_genes[means_for_genes$gene == gene_list$ensembl_gene_id[i],]$bpa_at_5000 = mean(ex_mat[probs_for_gene, c(13:18)]) / length(probs_for_gene)\n",
    "}"
   ]
  },
  {
   "cell_type": "code",
   "execution_count": 13,
   "metadata": {},
   "outputs": [
    {
     "data": {
      "text/html": [
       "<table>\n",
       "<thead><tr><th scope=col>gene</th><th scope=col>control</th><th scope=col>bpa_at_50</th><th scope=col>bpa_at_5000</th></tr></thead>\n",
       "<tbody>\n",
       "\t<tr><td>ENSMUSG00000024276</td><td> 3.503208         </td><td> 3.543042         </td><td> 3.496792         </td></tr>\n",
       "\t<tr><td>ENSMUSG00000104526</td><td> 6.938000         </td><td> 6.886667         </td><td> 7.115833         </td></tr>\n",
       "\t<tr><td>ENSMUSG00000067199</td><td> 4.430417         </td><td> 4.150042         </td><td> 4.361042         </td></tr>\n",
       "\t<tr><td>ENSMUSG00000095675</td><td> 6.663333         </td><td> 6.606833         </td><td> 6.965167         </td></tr>\n",
       "\t<tr><td>ENSMUSG00000031145</td><td> 7.433667         </td><td> 7.355167         </td><td> 7.270333         </td></tr>\n",
       "\t<tr><td>ENSMUSG00000012640</td><td> 2.208241         </td><td> 2.200611         </td><td> 2.205481         </td></tr>\n",
       "\t<tr><td>ENSMUSG00000028062</td><td>13.264333         </td><td>13.302667         </td><td>13.122167         </td></tr>\n",
       "\t<tr><td>ENSMUSG00000068566</td><td> 3.322625         </td><td> 3.390000         </td><td> 3.285542         </td></tr>\n",
       "\t<tr><td>ENSMUSG00000039826</td><td> 4.968250         </td><td> 5.032208         </td><td> 5.050667         </td></tr>\n",
       "\t<tr><td>ENSMUSG00000051147</td><td>10.281833         </td><td>10.246167         </td><td>10.291500         </td></tr>\n",
       "\t<tr><td>ENSMUSG00000028407</td><td> 3.726958         </td><td> 3.749833         </td><td> 3.771000         </td></tr>\n",
       "\t<tr><td>ENSMUSG00000026816</td><td> 9.456167         </td><td> 9.606500         </td><td> 9.554833         </td></tr>\n",
       "\t<tr><td>ENSMUSG00000028156</td><td> 3.002741         </td><td> 3.054722         </td><td> 3.016093         </td></tr>\n",
       "\t<tr><td>ENSMUSG00000110528</td><td> 7.706500         </td><td> 7.908833         </td><td> 7.748667         </td></tr>\n",
       "\t<tr><td>ENSMUSG00000041556</td><td> 2.659907         </td><td> 2.763685         </td><td> 2.747759         </td></tr>\n",
       "\t<tr><td>ENSMUSG00000042197</td><td> 1.620552         </td><td> 1.610010         </td><td> 1.620385         </td></tr>\n",
       "\t<tr><td>ENSMUSG00000038319</td><td> 6.183500         </td><td> 6.353000         </td><td> 6.235333         </td></tr>\n",
       "\t<tr><td>ENSMUSG00000047037</td><td> 8.304000         </td><td> 8.497833         </td><td> 8.506667         </td></tr>\n",
       "\t<tr><td>ENSMUSG00000027677</td><td> 2.640389         </td><td> 2.648574         </td><td> 2.656556         </td></tr>\n",
       "\t<tr><td>ENSMUSG00000096596</td><td> 6.663333         </td><td> 6.606833         </td><td> 6.965167         </td></tr>\n",
       "\t<tr><td>ENSMUSG00000078515</td><td> 6.135917         </td><td> 5.999292         </td><td> 6.147042         </td></tr>\n",
       "\t<tr><td>ENSMUSG00000030423</td><td> 4.643583         </td><td> 4.777417         </td><td> 4.741042         </td></tr>\n",
       "\t<tr><td>ENSMUSG00000059934</td><td> 9.302000         </td><td> 9.333667         </td><td> 9.362333         </td></tr>\n",
       "\t<tr><td>ENSMUSG00000031889</td><td> 9.319667         </td><td> 9.456000         </td><td> 9.401667         </td></tr>\n",
       "\t<tr><td>ENSMUSG00000034211</td><td> 5.085708         </td><td> 5.074542         </td><td> 5.086958         </td></tr>\n",
       "\t<tr><td>ENSMUSG00000101188</td><td> 3.534352         </td><td> 3.520741         </td><td> 3.543481         </td></tr>\n",
       "\t<tr><td>ENSMUSG00000069266</td><td> 5.148167         </td><td> 5.277250         </td><td> 5.196625         </td></tr>\n",
       "\t<tr><td>ENSMUSG00000060093</td><td> 3.278593         </td><td> 3.354593         </td><td> 3.301963         </td></tr>\n",
       "\t<tr><td>ENSMUSG00000114078</td><td> 6.355500         </td><td> 6.247667         </td><td> 6.227000         </td></tr>\n",
       "\t<tr><td>ENSMUSG00000056290</td><td> 3.145875         </td><td> 3.177708         </td><td> 3.164417         </td></tr>\n",
       "\t<tr><td>...</td><td>...</td><td>...</td><td>...</td></tr>\n",
       "\t<tr><td>ENSMUSG00000024163</td><td> 6.048333         </td><td> 6.209833         </td><td> 5.945000         </td></tr>\n",
       "\t<tr><td>ENSMUSG00000024245</td><td> 6.153833         </td><td> 6.142500         </td><td> 6.121667         </td></tr>\n",
       "\t<tr><td>ENSMUSG00000094520</td><td> 6.560500         </td><td> 6.450667         </td><td> 6.478333         </td></tr>\n",
       "\t<tr><td>ENSMUSG00000074577</td><td> 5.720333         </td><td> 5.760000         </td><td> 5.806833         </td></tr>\n",
       "\t<tr><td>ENSMUSG00000030695</td><td>13.855500         </td><td>13.625667         </td><td>13.552333         </td></tr>\n",
       "\t<tr><td>ENSMUSG00000047841</td><td> 6.071333         </td><td> 6.038667         </td><td> 6.165167         </td></tr>\n",
       "\t<tr><td>ENSMUSG00000080962</td><td>13.562833         </td><td>13.745167         </td><td>13.521500         </td></tr>\n",
       "\t<tr><td>ENSMUSG00000001576</td><td> 4.601417         </td><td> 4.682708         </td><td> 4.597417         </td></tr>\n",
       "\t<tr><td>ENSMUSG00000074570</td><td> 5.781000         </td><td> 5.815667         </td><td> 5.850000         </td></tr>\n",
       "\t<tr><td>ENSMUSG00000021221</td><td> 5.863500         </td><td> 6.007000         </td><td> 5.973333         </td></tr>\n",
       "\t<tr><td>ENSMUSG00000094910</td><td> 7.119667         </td><td> 7.176667         </td><td> 7.087000         </td></tr>\n",
       "\t<tr><td>ENSMUSG00000079429</td><td> 6.230333         </td><td> 6.196833         </td><td> 6.355667         </td></tr>\n",
       "\t<tr><td>ENSMUSG00000103763</td><td> 6.035500         </td><td> 5.973333         </td><td> 6.098833         </td></tr>\n",
       "\t<tr><td>ENSMUSG00000073374</td><td> 6.461000         </td><td> 6.606333         </td><td> 6.645667         </td></tr>\n",
       "\t<tr><td>ENSMUSG00000056014</td><td> 5.815333         </td><td> 5.685500         </td><td> 5.765167         </td></tr>\n",
       "\t<tr><td>ENSMUSG00000027111</td><td> 6.076667         </td><td> 6.168000         </td><td> 6.011500         </td></tr>\n",
       "\t<tr><td>ENSMUSG00000025357</td><td> 8.547500         </td><td> 8.310500         </td><td> 8.557667         </td></tr>\n",
       "\t<tr><td>ENSMUSG00000045287</td><td> 8.513167         </td><td> 8.162500         </td><td> 8.323500         </td></tr>\n",
       "\t<tr><td>ENSMUSG00000025354</td><td> 6.028167         </td><td> 6.069500         </td><td> 6.043667         </td></tr>\n",
       "\t<tr><td>ENSMUSG00000025347</td><td>12.101667         </td><td>12.448833         </td><td>11.875333         </td></tr>\n",
       "\t<tr><td>ENSMUSG00000098339</td><td> 5.798500         </td><td> 5.751833         </td><td> 5.738667         </td></tr>\n",
       "\t<tr><td>ENSMUSG00000065738</td><td> 6.348833         </td><td> 6.227167         </td><td> 6.092500         </td></tr>\n",
       "\t<tr><td>ENSMUSG00000064829</td><td> 7.154333         </td><td> 6.965167         </td><td> 6.952167         </td></tr>\n",
       "\t<tr><td>ENSMUSG00000093149</td><td> 9.731500         </td><td> 9.960500         </td><td> 9.914833         </td></tr>\n",
       "\t<tr><td>ENSMUSG00000064731</td><td> 6.348833         </td><td> 6.227167         </td><td> 6.092500         </td></tr>\n",
       "\t<tr><td>ENSMUSG00000065295</td><td> 7.154333         </td><td> 6.965167         </td><td> 6.952167         </td></tr>\n",
       "\t<tr><td>ENSMUSG00000046747</td><td> 5.876333         </td><td> 5.913500         </td><td> 5.760167         </td></tr>\n",
       "\t<tr><td>ENSMUSG00000116683</td><td> 6.444167         </td><td> 5.983000         </td><td> 6.196167         </td></tr>\n",
       "\t<tr><td>ENSMUSG00000107119</td><td> 8.033833         </td><td> 8.034333         </td><td> 7.945667         </td></tr>\n",
       "\t<tr><td>ENSMUSG00000111592</td><td>14.223167         </td><td>13.914333         </td><td>13.965667         </td></tr>\n",
       "</tbody>\n",
       "</table>\n"
      ],
      "text/latex": [
       "\\begin{tabular}{r|llll}\n",
       " gene & control & bpa\\_at\\_50 & bpa\\_at\\_5000\\\\\n",
       "\\hline\n",
       "\t ENSMUSG00000024276 &  3.503208          &  3.543042          &  3.496792         \\\\\n",
       "\t ENSMUSG00000104526 &  6.938000          &  6.886667          &  7.115833         \\\\\n",
       "\t ENSMUSG00000067199 &  4.430417          &  4.150042          &  4.361042         \\\\\n",
       "\t ENSMUSG00000095675 &  6.663333          &  6.606833          &  6.965167         \\\\\n",
       "\t ENSMUSG00000031145 &  7.433667          &  7.355167          &  7.270333         \\\\\n",
       "\t ENSMUSG00000012640 &  2.208241          &  2.200611          &  2.205481         \\\\\n",
       "\t ENSMUSG00000028062 & 13.264333          & 13.302667          & 13.122167         \\\\\n",
       "\t ENSMUSG00000068566 &  3.322625          &  3.390000          &  3.285542         \\\\\n",
       "\t ENSMUSG00000039826 &  4.968250          &  5.032208          &  5.050667         \\\\\n",
       "\t ENSMUSG00000051147 & 10.281833          & 10.246167          & 10.291500         \\\\\n",
       "\t ENSMUSG00000028407 &  3.726958          &  3.749833          &  3.771000         \\\\\n",
       "\t ENSMUSG00000026816 &  9.456167          &  9.606500          &  9.554833         \\\\\n",
       "\t ENSMUSG00000028156 &  3.002741          &  3.054722          &  3.016093         \\\\\n",
       "\t ENSMUSG00000110528 &  7.706500          &  7.908833          &  7.748667         \\\\\n",
       "\t ENSMUSG00000041556 &  2.659907          &  2.763685          &  2.747759         \\\\\n",
       "\t ENSMUSG00000042197 &  1.620552          &  1.610010          &  1.620385         \\\\\n",
       "\t ENSMUSG00000038319 &  6.183500          &  6.353000          &  6.235333         \\\\\n",
       "\t ENSMUSG00000047037 &  8.304000          &  8.497833          &  8.506667         \\\\\n",
       "\t ENSMUSG00000027677 &  2.640389          &  2.648574          &  2.656556         \\\\\n",
       "\t ENSMUSG00000096596 &  6.663333          &  6.606833          &  6.965167         \\\\\n",
       "\t ENSMUSG00000078515 &  6.135917          &  5.999292          &  6.147042         \\\\\n",
       "\t ENSMUSG00000030423 &  4.643583          &  4.777417          &  4.741042         \\\\\n",
       "\t ENSMUSG00000059934 &  9.302000          &  9.333667          &  9.362333         \\\\\n",
       "\t ENSMUSG00000031889 &  9.319667          &  9.456000          &  9.401667         \\\\\n",
       "\t ENSMUSG00000034211 &  5.085708          &  5.074542          &  5.086958         \\\\\n",
       "\t ENSMUSG00000101188 &  3.534352          &  3.520741          &  3.543481         \\\\\n",
       "\t ENSMUSG00000069266 &  5.148167          &  5.277250          &  5.196625         \\\\\n",
       "\t ENSMUSG00000060093 &  3.278593          &  3.354593          &  3.301963         \\\\\n",
       "\t ENSMUSG00000114078 &  6.355500          &  6.247667          &  6.227000         \\\\\n",
       "\t ENSMUSG00000056290 &  3.145875          &  3.177708          &  3.164417         \\\\\n",
       "\t ... & ... & ... & ...\\\\\n",
       "\t ENSMUSG00000024163 &  6.048333          &  6.209833          &  5.945000         \\\\\n",
       "\t ENSMUSG00000024245 &  6.153833          &  6.142500          &  6.121667         \\\\\n",
       "\t ENSMUSG00000094520 &  6.560500          &  6.450667          &  6.478333         \\\\\n",
       "\t ENSMUSG00000074577 &  5.720333          &  5.760000          &  5.806833         \\\\\n",
       "\t ENSMUSG00000030695 & 13.855500          & 13.625667          & 13.552333         \\\\\n",
       "\t ENSMUSG00000047841 &  6.071333          &  6.038667          &  6.165167         \\\\\n",
       "\t ENSMUSG00000080962 & 13.562833          & 13.745167          & 13.521500         \\\\\n",
       "\t ENSMUSG00000001576 &  4.601417          &  4.682708          &  4.597417         \\\\\n",
       "\t ENSMUSG00000074570 &  5.781000          &  5.815667          &  5.850000         \\\\\n",
       "\t ENSMUSG00000021221 &  5.863500          &  6.007000          &  5.973333         \\\\\n",
       "\t ENSMUSG00000094910 &  7.119667          &  7.176667          &  7.087000         \\\\\n",
       "\t ENSMUSG00000079429 &  6.230333          &  6.196833          &  6.355667         \\\\\n",
       "\t ENSMUSG00000103763 &  6.035500          &  5.973333          &  6.098833         \\\\\n",
       "\t ENSMUSG00000073374 &  6.461000          &  6.606333          &  6.645667         \\\\\n",
       "\t ENSMUSG00000056014 &  5.815333          &  5.685500          &  5.765167         \\\\\n",
       "\t ENSMUSG00000027111 &  6.076667          &  6.168000          &  6.011500         \\\\\n",
       "\t ENSMUSG00000025357 &  8.547500          &  8.310500          &  8.557667         \\\\\n",
       "\t ENSMUSG00000045287 &  8.513167          &  8.162500          &  8.323500         \\\\\n",
       "\t ENSMUSG00000025354 &  6.028167          &  6.069500          &  6.043667         \\\\\n",
       "\t ENSMUSG00000025347 & 12.101667          & 12.448833          & 11.875333         \\\\\n",
       "\t ENSMUSG00000098339 &  5.798500          &  5.751833          &  5.738667         \\\\\n",
       "\t ENSMUSG00000065738 &  6.348833          &  6.227167          &  6.092500         \\\\\n",
       "\t ENSMUSG00000064829 &  7.154333          &  6.965167          &  6.952167         \\\\\n",
       "\t ENSMUSG00000093149 &  9.731500          &  9.960500          &  9.914833         \\\\\n",
       "\t ENSMUSG00000064731 &  6.348833          &  6.227167          &  6.092500         \\\\\n",
       "\t ENSMUSG00000065295 &  7.154333          &  6.965167          &  6.952167         \\\\\n",
       "\t ENSMUSG00000046747 &  5.876333          &  5.913500          &  5.760167         \\\\\n",
       "\t ENSMUSG00000116683 &  6.444167          &  5.983000          &  6.196167         \\\\\n",
       "\t ENSMUSG00000107119 &  8.033833          &  8.034333          &  7.945667         \\\\\n",
       "\t ENSMUSG00000111592 & 14.223167          & 13.914333          & 13.965667         \\\\\n",
       "\\end{tabular}\n"
      ],
      "text/markdown": [
       "\n",
       "| gene | control | bpa_at_50 | bpa_at_5000 |\n",
       "|---|---|---|---|\n",
       "| ENSMUSG00000024276 |  3.503208          |  3.543042          |  3.496792          |\n",
       "| ENSMUSG00000104526 |  6.938000          |  6.886667          |  7.115833          |\n",
       "| ENSMUSG00000067199 |  4.430417          |  4.150042          |  4.361042          |\n",
       "| ENSMUSG00000095675 |  6.663333          |  6.606833          |  6.965167          |\n",
       "| ENSMUSG00000031145 |  7.433667          |  7.355167          |  7.270333          |\n",
       "| ENSMUSG00000012640 |  2.208241          |  2.200611          |  2.205481          |\n",
       "| ENSMUSG00000028062 | 13.264333          | 13.302667          | 13.122167          |\n",
       "| ENSMUSG00000068566 |  3.322625          |  3.390000          |  3.285542          |\n",
       "| ENSMUSG00000039826 |  4.968250          |  5.032208          |  5.050667          |\n",
       "| ENSMUSG00000051147 | 10.281833          | 10.246167          | 10.291500          |\n",
       "| ENSMUSG00000028407 |  3.726958          |  3.749833          |  3.771000          |\n",
       "| ENSMUSG00000026816 |  9.456167          |  9.606500          |  9.554833          |\n",
       "| ENSMUSG00000028156 |  3.002741          |  3.054722          |  3.016093          |\n",
       "| ENSMUSG00000110528 |  7.706500          |  7.908833          |  7.748667          |\n",
       "| ENSMUSG00000041556 |  2.659907          |  2.763685          |  2.747759          |\n",
       "| ENSMUSG00000042197 |  1.620552          |  1.610010          |  1.620385          |\n",
       "| ENSMUSG00000038319 |  6.183500          |  6.353000          |  6.235333          |\n",
       "| ENSMUSG00000047037 |  8.304000          |  8.497833          |  8.506667          |\n",
       "| ENSMUSG00000027677 |  2.640389          |  2.648574          |  2.656556          |\n",
       "| ENSMUSG00000096596 |  6.663333          |  6.606833          |  6.965167          |\n",
       "| ENSMUSG00000078515 |  6.135917          |  5.999292          |  6.147042          |\n",
       "| ENSMUSG00000030423 |  4.643583          |  4.777417          |  4.741042          |\n",
       "| ENSMUSG00000059934 |  9.302000          |  9.333667          |  9.362333          |\n",
       "| ENSMUSG00000031889 |  9.319667          |  9.456000          |  9.401667          |\n",
       "| ENSMUSG00000034211 |  5.085708          |  5.074542          |  5.086958          |\n",
       "| ENSMUSG00000101188 |  3.534352          |  3.520741          |  3.543481          |\n",
       "| ENSMUSG00000069266 |  5.148167          |  5.277250          |  5.196625          |\n",
       "| ENSMUSG00000060093 |  3.278593          |  3.354593          |  3.301963          |\n",
       "| ENSMUSG00000114078 |  6.355500          |  6.247667          |  6.227000          |\n",
       "| ENSMUSG00000056290 |  3.145875          |  3.177708          |  3.164417          |\n",
       "| ... | ... | ... | ... |\n",
       "| ENSMUSG00000024163 |  6.048333          |  6.209833          |  5.945000          |\n",
       "| ENSMUSG00000024245 |  6.153833          |  6.142500          |  6.121667          |\n",
       "| ENSMUSG00000094520 |  6.560500          |  6.450667          |  6.478333          |\n",
       "| ENSMUSG00000074577 |  5.720333          |  5.760000          |  5.806833          |\n",
       "| ENSMUSG00000030695 | 13.855500          | 13.625667          | 13.552333          |\n",
       "| ENSMUSG00000047841 |  6.071333          |  6.038667          |  6.165167          |\n",
       "| ENSMUSG00000080962 | 13.562833          | 13.745167          | 13.521500          |\n",
       "| ENSMUSG00000001576 |  4.601417          |  4.682708          |  4.597417          |\n",
       "| ENSMUSG00000074570 |  5.781000          |  5.815667          |  5.850000          |\n",
       "| ENSMUSG00000021221 |  5.863500          |  6.007000          |  5.973333          |\n",
       "| ENSMUSG00000094910 |  7.119667          |  7.176667          |  7.087000          |\n",
       "| ENSMUSG00000079429 |  6.230333          |  6.196833          |  6.355667          |\n",
       "| ENSMUSG00000103763 |  6.035500          |  5.973333          |  6.098833          |\n",
       "| ENSMUSG00000073374 |  6.461000          |  6.606333          |  6.645667          |\n",
       "| ENSMUSG00000056014 |  5.815333          |  5.685500          |  5.765167          |\n",
       "| ENSMUSG00000027111 |  6.076667          |  6.168000          |  6.011500          |\n",
       "| ENSMUSG00000025357 |  8.547500          |  8.310500          |  8.557667          |\n",
       "| ENSMUSG00000045287 |  8.513167          |  8.162500          |  8.323500          |\n",
       "| ENSMUSG00000025354 |  6.028167          |  6.069500          |  6.043667          |\n",
       "| ENSMUSG00000025347 | 12.101667          | 12.448833          | 11.875333          |\n",
       "| ENSMUSG00000098339 |  5.798500          |  5.751833          |  5.738667          |\n",
       "| ENSMUSG00000065738 |  6.348833          |  6.227167          |  6.092500          |\n",
       "| ENSMUSG00000064829 |  7.154333          |  6.965167          |  6.952167          |\n",
       "| ENSMUSG00000093149 |  9.731500          |  9.960500          |  9.914833          |\n",
       "| ENSMUSG00000064731 |  6.348833          |  6.227167          |  6.092500          |\n",
       "| ENSMUSG00000065295 |  7.154333          |  6.965167          |  6.952167          |\n",
       "| ENSMUSG00000046747 |  5.876333          |  5.913500          |  5.760167          |\n",
       "| ENSMUSG00000116683 |  6.444167          |  5.983000          |  6.196167          |\n",
       "| ENSMUSG00000107119 |  8.033833          |  8.034333          |  7.945667          |\n",
       "| ENSMUSG00000111592 | 14.223167          | 13.914333          | 13.965667          |\n",
       "\n"
      ],
      "text/plain": [
       "      gene               control   bpa_at_50 bpa_at_5000\n",
       "1     ENSMUSG00000024276  3.503208  3.543042  3.496792  \n",
       "2     ENSMUSG00000104526  6.938000  6.886667  7.115833  \n",
       "3     ENSMUSG00000067199  4.430417  4.150042  4.361042  \n",
       "4     ENSMUSG00000095675  6.663333  6.606833  6.965167  \n",
       "5     ENSMUSG00000031145  7.433667  7.355167  7.270333  \n",
       "6     ENSMUSG00000012640  2.208241  2.200611  2.205481  \n",
       "7     ENSMUSG00000028062 13.264333 13.302667 13.122167  \n",
       "8     ENSMUSG00000068566  3.322625  3.390000  3.285542  \n",
       "9     ENSMUSG00000039826  4.968250  5.032208  5.050667  \n",
       "10    ENSMUSG00000051147 10.281833 10.246167 10.291500  \n",
       "11    ENSMUSG00000028407  3.726958  3.749833  3.771000  \n",
       "12    ENSMUSG00000026816  9.456167  9.606500  9.554833  \n",
       "13    ENSMUSG00000028156  3.002741  3.054722  3.016093  \n",
       "14    ENSMUSG00000110528  7.706500  7.908833  7.748667  \n",
       "15    ENSMUSG00000041556  2.659907  2.763685  2.747759  \n",
       "16    ENSMUSG00000042197  1.620552  1.610010  1.620385  \n",
       "17    ENSMUSG00000038319  6.183500  6.353000  6.235333  \n",
       "18    ENSMUSG00000047037  8.304000  8.497833  8.506667  \n",
       "19    ENSMUSG00000027677  2.640389  2.648574  2.656556  \n",
       "20    ENSMUSG00000096596  6.663333  6.606833  6.965167  \n",
       "21    ENSMUSG00000078515  6.135917  5.999292  6.147042  \n",
       "22    ENSMUSG00000030423  4.643583  4.777417  4.741042  \n",
       "23    ENSMUSG00000059934  9.302000  9.333667  9.362333  \n",
       "24    ENSMUSG00000031889  9.319667  9.456000  9.401667  \n",
       "25    ENSMUSG00000034211  5.085708  5.074542  5.086958  \n",
       "26    ENSMUSG00000101188  3.534352  3.520741  3.543481  \n",
       "27    ENSMUSG00000069266  5.148167  5.277250  5.196625  \n",
       "28    ENSMUSG00000060093  3.278593  3.354593  3.301963  \n",
       "29    ENSMUSG00000114078  6.355500  6.247667  6.227000  \n",
       "30    ENSMUSG00000056290  3.145875  3.177708  3.164417  \n",
       "...   ...                ...       ...       ...        \n",
       "14042 ENSMUSG00000024163  6.048333  6.209833  5.945000  \n",
       "14043 ENSMUSG00000024245  6.153833  6.142500  6.121667  \n",
       "14044 ENSMUSG00000094520  6.560500  6.450667  6.478333  \n",
       "14045 ENSMUSG00000074577  5.720333  5.760000  5.806833  \n",
       "14046 ENSMUSG00000030695 13.855500 13.625667 13.552333  \n",
       "14047 ENSMUSG00000047841  6.071333  6.038667  6.165167  \n",
       "14048 ENSMUSG00000080962 13.562833 13.745167 13.521500  \n",
       "14049 ENSMUSG00000001576  4.601417  4.682708  4.597417  \n",
       "14050 ENSMUSG00000074570  5.781000  5.815667  5.850000  \n",
       "14051 ENSMUSG00000021221  5.863500  6.007000  5.973333  \n",
       "14052 ENSMUSG00000094910  7.119667  7.176667  7.087000  \n",
       "14053 ENSMUSG00000079429  6.230333  6.196833  6.355667  \n",
       "14054 ENSMUSG00000103763  6.035500  5.973333  6.098833  \n",
       "14055 ENSMUSG00000073374  6.461000  6.606333  6.645667  \n",
       "14056 ENSMUSG00000056014  5.815333  5.685500  5.765167  \n",
       "14057 ENSMUSG00000027111  6.076667  6.168000  6.011500  \n",
       "14058 ENSMUSG00000025357  8.547500  8.310500  8.557667  \n",
       "14059 ENSMUSG00000045287  8.513167  8.162500  8.323500  \n",
       "14060 ENSMUSG00000025354  6.028167  6.069500  6.043667  \n",
       "14061 ENSMUSG00000025347 12.101667 12.448833 11.875333  \n",
       "14062 ENSMUSG00000098339  5.798500  5.751833  5.738667  \n",
       "14063 ENSMUSG00000065738  6.348833  6.227167  6.092500  \n",
       "14064 ENSMUSG00000064829  7.154333  6.965167  6.952167  \n",
       "14065 ENSMUSG00000093149  9.731500  9.960500  9.914833  \n",
       "14066 ENSMUSG00000064731  6.348833  6.227167  6.092500  \n",
       "14067 ENSMUSG00000065295  7.154333  6.965167  6.952167  \n",
       "14068 ENSMUSG00000046747  5.876333  5.913500  5.760167  \n",
       "14069 ENSMUSG00000116683  6.444167  5.983000  6.196167  \n",
       "14070 ENSMUSG00000107119  8.033833  8.034333  7.945667  \n",
       "14071 ENSMUSG00000111592 14.223167 13.914333 13.965667  "
      ]
     },
     "metadata": {},
     "output_type": "display_data"
    }
   ],
   "source": [
    "means_for_genes"
   ]
  },
  {
   "cell_type": "markdown",
   "metadata": {},
   "source": [
    "Сохраним результат в файл"
   ]
  },
  {
   "cell_type": "code",
   "execution_count": 14,
   "metadata": {},
   "outputs": [],
   "source": [
    "write.table(means_for_genes, \"../data/means_for_genes.txt\", row.names = FALSE, col.names = TRUE, sep='\\t', quote=FALSE)"
   ]
  },
  {
   "cell_type": "markdown",
   "metadata": {},
   "source": [
    "Так же запишем в файл матрицу экспрессии для использования в дальнейшем для построения дерева решений."
   ]
  },
  {
   "cell_type": "code",
   "execution_count": 15,
   "metadata": {},
   "outputs": [],
   "source": [
    "df = as.data.frame(t(ex_mat))\n",
    "df$Group <- c(rep(0, 6), rep(1, 6), rep(2, 6))"
   ]
  },
  {
   "cell_type": "code",
   "execution_count": 16,
   "metadata": {},
   "outputs": [],
   "source": [
    "write.table(df, \"../data/expr_matrix.txt\", row.names = TRUE, col.names = TRUE, sep='\\t', quote=FALSE)"
   ]
  }
 ],
 "metadata": {
  "kernelspec": {
   "display_name": "R",
   "language": "R",
   "name": "ir"
  },
  "language_info": {
   "codemirror_mode": "r",
   "file_extension": ".r",
   "mimetype": "text/x-r-source",
   "name": "R",
   "pygments_lexer": "r",
   "version": "3.6.1"
  }
 },
 "nbformat": 4,
 "nbformat_minor": 2
}
